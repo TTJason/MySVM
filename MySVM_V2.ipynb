{
 "cells": [
  {
   "cell_type": "code",
   "execution_count": 1,
   "metadata": {
    "collapsed": false
   },
   "outputs": [
    {
     "name": "stderr",
     "output_type": "stream",
     "text": [
      "/Users/sivber/anaconda/lib/python2.7/site-packages/matplotlib/font_manager.py:273: UserWarning: Matplotlib is building the font cache using fc-list. This may take a moment.\n",
      "  warnings.warn('Matplotlib is building the font cache using fc-list. This may take a moment.')\n"
     ]
    }
   ],
   "source": [
    "from numpy import *\n",
    "from time import sleep\n",
    "import matplotlib.pyplot as plt\n",
    "import pandas as pd "
   ]
  },
  {
   "cell_type": "code",
   "execution_count": 2,
   "metadata": {
    "collapsed": false
   },
   "outputs": [],
   "source": [
    "def loadDataSet(fileName):\n",
    "    dataMat = []; labelMat = []\n",
    "    fr = open(fileName)\n",
    "    for line in fr.readlines():\n",
    "        lineArr = line.strip().split('\\t')\n",
    "        dataMat.append([float(lineArr[0]), float(lineArr[1])])\n",
    "        labelMat.append(float(lineArr[2]))\n",
    "    return array(dataMat),array(labelMat)\n",
    "class smoSVM:\n",
    "    def __init__(self,xMatIn,yMatIn,C,toler,kTup,maxIter):\n",
    "        self.X = mat(xMatIn)\n",
    "        self.Y = mat(yMatIn).transpose()\n",
    "        self.C = C\n",
    "        self.tol = toler\n",
    "        self.m = shape(xMatIn)[0]\n",
    "        self.n = shape(xMatIn)[1]\n",
    "        self.alphas = mat(zeros((self.m,1)))\n",
    "        self.b = 0\n",
    "        self.eCache = mat(zeros((self.m,2)))\n",
    "        self.K = mat(zeros((self.m,self.m)))\n",
    "        self.kTup = kTup\n",
    "        self.maxIter = maxIter\n",
    "        self.w = mat(zeros((self.n,1)))\n",
    "        for i in range(self.m):\n",
    "            self.K[:,i] = self.kernelTrans(self.X[i,:])\n",
    "            \n",
    "    def selectJrand(self,i):\n",
    "        j=i #we want to select any J not equal to i\n",
    "        while (j==i):\n",
    "            j = int(random.uniform(0,self.m))\n",
    "        return j\n",
    "\n",
    "    def clipAlpha(self,aj,H,L):\n",
    "        if aj > H: \n",
    "            aj = H\n",
    "        if L > aj:\n",
    "            aj = L\n",
    "        return aj\n",
    "    def calcEk(self,k):\n",
    "        fxk = float(multiply(self.alphas,self.Y).T*self.K[:,k]+ self.b)\n",
    "        Ek = fxk - float(self.Y[k])\n",
    "        return Ek\n",
    "\n",
    "    #选取Ei-Ej绝对值最大的j\n",
    "    def selectJ(self,i,Ei):\n",
    "        maxK = -1; maxDeltaE = 0; Ej = 0\n",
    "        #第一列为标志该值是否有效，第二列才为误差值\n",
    "        self.eCache[i] = [1,Ei]\n",
    "        #nonzero返回不为0的坐标,[0]为行坐标，[1]为列坐标，[i]为第i纬的坐标\n",
    "        validEcacheList = nonzero(self.eCache[:,0].A)[0]\n",
    "        if (len(validEcacheList)) > 1:\n",
    "            for k in validEcacheList:   \n",
    "                if k == i: continue \n",
    "                Ek = self.calcEk(k)\n",
    "                deltaE = abs(Ei - Ek)\n",
    "                if (deltaE > maxDeltaE):\n",
    "                    maxK = k; maxDeltaE = deltaE; Ej = Ek\n",
    "            return maxK, Ej\n",
    "        else:  \n",
    "            j = self.selectJrand(i)\n",
    "            Ej = self.calcEk(j)\n",
    "        return j, Ej\n",
    "    \n",
    "    def updateEk(self, k):\n",
    "        Ek = self.calcEk( k)\n",
    "        self.eCache[k] = [1,Ek]\n",
    "        \n",
    "    def innerL(self,i):\n",
    "        Ei = self.calcEk(i)\n",
    "        #KTT : 0 <= alpha <= C toler为容错参数，当超过容错参数同时alpha在约束条件内才继续优化alpha，\n",
    "        #统计学习方法.李航 p113 支持向量部分\n",
    "        #Y_train[i]*Ei < -toler表示i被误分类到另外一侧，且在间隔之外，如果alpha<C那么alpha应该增大\n",
    "        #Y_train[i]*Ei > toler表示i被正分类了，且在间隔之外,如果alpha>0那么alpha应该缩小\n",
    "        if ((self.Y[i]*Ei<-self.tol) and (self.alphas[i] < self.C)) or ((self.Y[i]*Ei>self.tol) and (self.alphas[i] >0)):\n",
    "            #计算误差\n",
    "            j,Ej = self.selectJ(i,Ei)\n",
    "            alphaIold = self.alphas[i].copy();alphaJold = self.alphas[j].copy();\n",
    "            #由KTT:sum(alphas*y) = 0\n",
    "            #当i与j的y同号时相当于alphas[i] + alphas[j] = A(常数) \n",
    "            #异号时相当于alphas[i] - alphas[j] = A\n",
    "            #同时必须满足 0 <= alpha <= C \n",
    "            #则分别求出上下界L H 如果上下界相同，则alpha处于边界 直接跳过\n",
    "            if(self.Y[i]!=self.Y[j]):\n",
    "                L = max(0,self.Y[j]-self.Y[i])\n",
    "                H = min(self.C,self.C+self.Y[j]-self.Y[i])\n",
    "            else:\n",
    "                L = max(0,-self.C+self.Y[j]+self.Y[i])\n",
    "                H = min(self.C,self.Y[j]+self.Y[i])\n",
    "            if L==H: print \"L==H\"; return 0\n",
    "            #由sum(y[i]*alpha[i]) = 0 将alpha[j]由alpha[i]表示带入目标函数 可以得到alpha[2]的一元二次方程，求导使其为0可以得到极值点\n",
    "            #最终alpha[j]=alpha[j]_old + y[j](Ei-Ej)/(K11+K22-2K12) K11 = (X[i].X[j])\n",
    "            #这里eta为2K12 - K11 - K22\n",
    "            eta = 2.0*self.K[i,j] - self.K[i,i] - self.K[j,j]\n",
    "            if eta >= 0: print \"eta>=0\"; return 0\n",
    "            self.alphas[j] -= self.Y[j]*(Ei-Ej)/eta\n",
    "            self.alphas[j] = self.clipAlpha(self.alphas[j],H,L)\n",
    "            self.updateEk(j)\n",
    "            if (abs(self.alphas[j] - alphaJold) < 0.00001): print \"j not moving enough\"; return 0\n",
    "            self.alphas[i] += self.Y[j]*self.Y[i]*(alphaJold - self.alphas[j])#update i by the same amount as j\n",
    "            self.updateEk(i) #added this for the Ecache                    #the update is in the oppostie direction\n",
    "            b1 = self.b - Ei- self.Y[i]*(self.alphas[i]-alphaIold)*self.K[i,i] - self.Y[j]*(self.alphas[j]-alphaJold)*self.K[i,j]\n",
    "            b2 = self.b - Ej- self.Y[i]*(self.alphas[i]-alphaIold)*self.K[i,j]- self.Y[j]*(self.alphas[j]-alphaJold)*self.K[j,j]\n",
    "            if (0 < self.alphas[i]) and (self.C > self.alphas[i]): self.b = b1\n",
    "            elif (0 < self.alphas[j]) and (self.C > self.alphas[j]): self.b = b2\n",
    "            else: self.b = (b1 + b2)/2.0\n",
    "            return 1\n",
    "        else: return 0\n",
    "    def smoP(self):    #full Platt SMO\n",
    "        iter = 0\n",
    "        entireSet = True; alphaPairsChanged = 0\n",
    "        while (iter < self.maxIter) and ((alphaPairsChanged > 0) or (entireSet)):\n",
    "            alphaPairsChanged = 0\n",
    "            if entireSet:   \n",
    "                for i in range(self.m):        \n",
    "                    alphaPairsChanged += self.innerL(i)\n",
    "#                     print \"fullSet, iter: %d i:%d, pairs changed %d\" % (iter,i,alphaPairsChanged)\n",
    "                iter += 1\n",
    "            else:\n",
    "                #取0,C之间的alpha\n",
    "                nonBoundIs = nonzero((self.alphas.A > 0) * (self.alphas.A < self.C))[0]\n",
    "                for i in nonBoundIs:\n",
    "                    alphaPairsChanged += self.innerL(i)\n",
    "#                     print \"non-bound, iter: %d i:%d, pairs changed %d\" % (iter,i,alphaPairsChanged)\n",
    "                iter += 1\n",
    "            if entireSet: entireSet = False \n",
    "            elif (alphaPairsChanged == 0): entireSet = True  \n",
    "            print \"iteration number: %d\" % iter\n",
    "        self.calcWs()\n",
    "        return 0\n",
    "    def calcWs(self):\n",
    "        for i in range(self.m):\n",
    "            self.w += multiply(self.alphas[i]*self.Y[i],self.X[i,:].T)\n",
    "        return self.w\n",
    "    def kernelTrans(self,A): #calc the kernel or transform data to a higher dimensional space\n",
    "        m,n = shape(self.X)\n",
    "        K = mat(zeros((m,1)))\n",
    "        if self.kTup[0]=='lin': K = self.X * A.T   #linear kernel\n",
    "        elif self.kTup[0]=='rbf':\n",
    "            for j in range(m):\n",
    "                deltaRow = self.X[j,:] - A\n",
    "                K[j] = deltaRow*deltaRow.T\n",
    "            K = exp(K/(-1*self.kTup[1]**2)) #divide in NumPy is element-wise not matrix like Matlab\n",
    "        else: raise NameError('Houston We Have a Problem -- \\\n",
    "        That Kernel is not recognized')\n",
    "        return K\n",
    "    def predict(self,dataIn):\n",
    "        if dataIn.shape[1] != self.X.shape[1]:\n",
    "            print('数据有误')\n",
    "            return 0\n",
    "        n = len(dataIn)\n",
    "        result = zeros((1,n))\n",
    "        for i in range(n):\n",
    "            result[0,i] = multiply(self.alphas,self.Y).T*self.kernelTrans(mat(dataIn[i,:]))+self.b\n",
    "        return array(result)\n",
    "    def predictAndDraw(self,dataIn):\n",
    "        predictResult = self.predict(array(dataIn))\n",
    "        neg = dataIn[where(predictResult[0,:]<0)]\n",
    "        pos = dataIn[where(predictResult[0,:]>=0)]\n",
    "        plt.scatter(neg[:,0],neg[:,1],c= \"red\")\n",
    "        plt.scatter(pos[:,0],pos[:,1],c= \"blue\")\n",
    "        x = array(linspace(3, 6, 100))\n",
    "        y = (-self.b-self.w[0]*x)/self.w[1]\n",
    "        plt.plot(x,y.T)\n",
    "\n",
    "        #绿色的为支持向量\n",
    "#         alphas = array(self.alphas)\n",
    "#         plt.scatter(dataIn[where(alphas[:,0] > 0)][:,0],dataIn[where(alphas[:,0] > 0)][:,1],c=\"green\",marker=\"D\")\n",
    "        plt.show()"
   ]
  },
  {
   "cell_type": "code",
   "execution_count": 3,
   "metadata": {
    "collapsed": true
   },
   "outputs": [],
   "source": [
    "#0<=spl<=1\n",
    "def splitData(data,label,spl):\n",
    "    if spl > 1:spl=1\n",
    "    if spl < 0:spl=0\n",
    "    msk = random.rand(len(data)) < spl\n",
    "    trainData = data[msk]\n",
    "    trainLabel = label[msk]\n",
    "    \n",
    "    testData = data[~msk]\n",
    "    testLabel = label[~msk]\n",
    "    return trainData,trainLabel,testData,testLabel"
   ]
  },
  {
   "cell_type": "code",
   "execution_count": 4,
   "metadata": {
    "collapsed": false
   },
   "outputs": [],
   "source": [
    "data,label = loadDataSet(\"testSet.txt\")\n",
    "data = array(data);label = array(label)\n",
    "trainData,trainLabel,testData,testLabel = splitData(data=data,label=label,spl=0.6)"
   ]
  },
  {
   "cell_type": "code",
   "execution_count": 5,
   "metadata": {
    "collapsed": false
   },
   "outputs": [],
   "source": [
    "model = smoSVM(xMatIn=trainData,yMatIn=trainLabel,C=0.6,toler=0.001,kTup=('lin',1),maxIter=40)"
   ]
  },
  {
   "cell_type": "code",
   "execution_count": 6,
   "metadata": {
    "collapsed": false
   },
   "outputs": [
    {
     "name": "stdout",
     "output_type": "stream",
     "text": [
      "j not moving enough\n",
      "iteration number: 1\n",
      "iteration number: 2\n",
      "j not moving enough\n",
      "j not moving enough\n",
      "j not moving enough\n",
      "iteration number: 3\n",
      "0.0309641361237秒\n"
     ]
    }
   ],
   "source": [
    "from time import time\n",
    "start = time()\n",
    "model.smoP()\n",
    "stop = time()\n",
    "print(str(stop-start) + \"秒\")\n"
   ]
  },
  {
   "cell_type": "code",
   "execution_count": 7,
   "metadata": {
    "collapsed": false
   },
   "outputs": [
    {
     "data": {
      "image/png": "[encoded data removed]",
      "text/plain": [
       "<matplotlib.figure.Figure at 0x10a4126d0>"
      ]
     },
     "metadata": {},
     "output_type": "display_data"
    }
   ],
   "source": [
    "model.predictAndDraw(testData)"
   ]
  },
  {
   "cell_type": "code",
   "execution_count": 8,
   "metadata": {
    "collapsed": false
   },
   "outputs": [],
   "source": [
    "testSetRBFData,testSetRBFLabel = loadDataSet(\"testSetRBF.txt\")"
   ]
  },
  {
   "cell_type": "code",
   "execution_count": 9,
   "metadata": {
    "collapsed": false
   },
   "outputs": [
    {
     "data": {
      "image/png": "[encoded data removed]",
      "text/plain": [
       "<matplotlib.figure.Figure at 0x10fce2ad0>"
      ]
     },
     "metadata": {},
     "output_type": "display_data"
    }
   ],
   "source": [
    "neg = testSetRBFData[where(testSetRBFLabel<0)]\n",
    "pos = testSetRBFData[where(testSetRBFLabel>0)]\n",
    "\n",
    "plt.scatter(neg[:,0],neg[:,1],c= \"red\")\n",
    "plt.scatter(pos[:,0],pos[:,1],c= \"blue\")\n",
    "plt.show()"
   ]
  },
  {
   "cell_type": "code",
   "execution_count": 10,
   "metadata": {
    "collapsed": false
   },
   "outputs": [],
   "source": [
    "trainSetData,trainSetLabel,testSetData,testSetLabel = splitData(testSetRBFData,testSetRBFLabel,0.6)"
   ]
  },
  {
   "cell_type": "code",
   "execution_count": 11,
   "metadata": {
    "collapsed": true
   },
   "outputs": [],
   "source": [
    "model2 = smoSVM(xMatIn=trainSetData,yMatIn=trainSetLabel,C=200,toler=0.0001,kTup=('rbf',1.5),maxIter=10000)"
   ]
  },
  {
   "cell_type": "code",
   "execution_count": 12,
   "metadata": {
    "collapsed": false
   },
   "outputs": [
    {
     "name": "stdout",
     "output_type": "stream",
     "text": [
      "j not moving enough\n",
      "j not moving enough\n",
      "j not moving enough\n",
      "j not moving enough\n",
      "j not moving enough\n",
      "j not moving enough\n",
      "j not moving enough\n",
      "j not moving enough\n",
      "j not moving enough\n",
      "j not moving enough\n",
      "j not moving enough\n",
      "j not moving enough\n",
      "j not moving enough\n",
      "j not moving enough\n",
      "j not moving enough\n",
      "j not moving enough\n",
      "j not moving enough\n",
      "iteration number: 1\n",
      "j not moving enough\n",
      "j not moving enough\n",
      "j not moving enough\n",
      "j not moving enough\n",
      "j not moving enough\n",
      "j not moving enough\n",
      "j not moving enough\n",
      "j not moving enough\n",
      "j not moving enough\n",
      "j not moving enough\n",
      "iteration number: 2\n",
      "j not moving enough\n",
      "j not moving enough\n",
      "j not moving enough\n",
      "j not moving enough\n",
      "j not moving enough\n",
      "j not moving enough\n",
      "j not moving enough\n",
      "j not moving enough\n",
      "j not moving enough\n",
      "j not moving enough\n",
      "j not moving enough\n",
      "j not moving enough\n",
      "iteration number: 3\n",
      "j not moving enough\n",
      "j not moving enough\n",
      "j not moving enough\n",
      "j not moving enough\n",
      "j not moving enough\n",
      "j not moving enough\n",
      "j not moving enough\n",
      "j not moving enough\n",
      "j not moving enough\n",
      "j not moving enough\n",
      "j not moving enough\n",
      "j not moving enough\n",
      "j not moving enough\n",
      "j not moving enough\n",
      "j not moving enough\n",
      "j not moving enough\n",
      "j not moving enough\n",
      "j not moving enough\n",
      "j not moving enough\n",
      "j not moving enough\n",
      "j not moving enough\n",
      "j not moving enough\n",
      "j not moving enough\n",
      "j not moving enough\n",
      "j not moving enough\n",
      "iteration number: 4\n"
     ]
    },
    {
     "data": {
      "text/plain": [
       "0"
      ]
     },
     "execution_count": 12,
     "metadata": {},
     "output_type": "execute_result"
    }
   ],
   "source": [
    "model2.smoP()"
   ]
  },
  {
   "cell_type": "code",
   "execution_count": 13,
   "metadata": {
    "collapsed": false
   },
   "outputs": [],
   "source": [
    "testSetPrediction = model2.predict(testSetData)"
   ]
  },
  {
   "cell_type": "code",
   "execution_count": 14,
   "metadata": {
    "collapsed": false
   },
   "outputs": [
    {
     "data": {
      "image/png": "[encoded data removed]",
      "text/plain": [
       "<matplotlib.figure.Figure at 0x10fdd9c90>"
      ]
     },
     "metadata": {},
     "output_type": "display_data"
    }
   ],
   "source": [
    "\n",
    "neg = testSetData[where(testSetPrediction[0,:]<0)]\n",
    "pos = testSetData[where(testSetPrediction[0,:]>0)]\n",
    "\n",
    "plt.scatter(neg[:,0],neg[:,1],c= \"red\")\n",
    "plt.scatter(pos[:,0],pos[:,1],c= \"blue\")\n",
    "plt.show()"
   ]
  },
  {
   "cell_type": "code",
   "execution_count": 15,
   "metadata": {
    "collapsed": false
   },
   "outputs": [
    {
     "data": {
      "image/png": "[encoded data removed]",
      "text/plain": [
       "<matplotlib.figure.Figure at 0x10fe93950>"
      ]
     },
     "metadata": {},
     "output_type": "display_data"
    }
   ],
   "source": [
    "neg = trainSetData[where(trainSetLabel<0)]\n",
    "pos = trainSetData[where(trainSetLabel>0)]\n",
    "\n",
    "plt.scatter(neg[:,0],neg[:,1],c= \"red\")\n",
    "plt.scatter(pos[:,0],pos[:,1],c= \"blue\")\n",
    "plt.show()"
   ]
  },
  {
   "cell_type": "code",
   "execution_count": null,
   "metadata": {
    "collapsed": false
   },
   "outputs": [],
   "source": []
  },
  {
   "cell_type": "code",
   "execution_count": null,
   "metadata": {
    "collapsed": true
   },
   "outputs": [],
   "source": []
  }
 ],
 "metadata": {
  "anaconda-cloud": {},
  "kernelspec": {
   "display_name": "Python [default]",
   "language": "python",
   "name": "python2"
  },
  "language_info": {
   "codemirror_mode": {
    "name": "ipython",
    "version": 2
   },
   "file_extension": ".py",
   "mimetype": "text/x-python",
   "name": "python",
   "nbconvert_exporter": "python",
   "pygments_lexer": "ipython2",
   "version": "2.7.12"
  }
 },
 "nbformat": 4,
 "nbformat_minor": 1
}
