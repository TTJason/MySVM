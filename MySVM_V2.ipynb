{
 "cells": [
  {
   "cell_type": "code",
   "execution_count": 1,
   "metadata": {
    "collapsed": false
   },
   "outputs": [
    {
     "name": "stderr",
     "output_type": "stream",
     "text": [
      "/Users/sivber/anaconda/lib/python2.7/site-packages/matplotlib/font_manager.py:273: UserWarning: Matplotlib is building the font cache using fc-list. This may take a moment.\n",
      "  warnings.warn('Matplotlib is building the font cache using fc-list. This may take a moment.')\n"
     ]
    }
   ],
   "source": [
    "from numpy import *\n",
    "from time import sleep\n",
    "import matplotlib.pyplot as plt\n",
    "import pandas as pd "
   ]
  },
  {
   "cell_type": "code",
   "execution_count": 2,
   "metadata": {
    "collapsed": true
   },
   "outputs": [],
   "source": [
    "def loadDataSet(fileName):\n",
    "    dataMat = []; labelMat = []\n",
    "    fr = open(fileName)\n",
    "    for line in fr.readlines():\n",
    "        lineArr = line.strip().split('\\t')\n",
    "        dataMat.append([float(lineArr[0]), float(lineArr[1])])\n",
    "        labelMat.append(float(lineArr[2]))\n",
    "    return dataMat,labelMat\n",
    "class smoSVM:\n",
    "    def __init__(self,xMatIn,yMatIn,C,toler,kTup,maxIter):\n",
    "        self.X = mat(xMatIn)\n",
    "        self.Y = mat(yMatIn).transpose()\n",
    "        self.C = C\n",
    "        self.tol = toler\n",
    "        self.m = shape(xMatIn)[0]\n",
    "        self.n = shape(xMatIn)[1]\n",
    "        self.alphas = mat(zeros((self.m,1)))\n",
    "        self.b = 0\n",
    "        self.eCache = mat(zeros((self.m,2)))\n",
    "        self.K = mat(zeros((self.m,self.m)))\n",
    "        self.kTup = kTup\n",
    "        self.maxIter = maxIter\n",
    "        self.w = mat(zeros((self.n,1)))\n",
    "        for i in range(self.m):\n",
    "            self.K[:,i] = self.kernelTrans(i)\n",
    "            \n",
    "    def selectJrand(self,i):\n",
    "        j=i #we want to select any J not equal to i\n",
    "        while (j==i):\n",
    "            j = int(random.uniform(0,self.m))\n",
    "        return j\n",
    "\n",
    "    def clipAlpha(self,aj,H,L):\n",
    "        if aj > H: \n",
    "            aj = H\n",
    "        if L > aj:\n",
    "            aj = L\n",
    "        return aj\n",
    "    def calcEk(self,k):\n",
    "        fxk = float(multiply(self.alphas,self.Y).T*(self.X*self.X[k,:].T)) + self.b\n",
    "        Ek = fxk - float(self.Y[k])\n",
    "        return Ek\n",
    "\n",
    "    #选取Ei-Ej绝对值最大的j\n",
    "    def selectJ(self,i,Ei):\n",
    "        maxK = -1; maxDeltaE = 0; Ej = 0\n",
    "        #第一列为标志该值是否有效，第二列才为误差值\n",
    "        self.eCache[i] = [1,Ei]\n",
    "        #nonzero返回不为0的坐标,[0]为行坐标，[1]为列坐标，[i]为第i纬的坐标\n",
    "        validEcacheList = nonzero(self.eCache[:,0].A)[0]\n",
    "        if (len(validEcacheList)) > 1:\n",
    "            for k in validEcacheList:   \n",
    "                if k == i: continue \n",
    "                Ek = self.calcEk(k)\n",
    "                deltaE = abs(Ei - Ek)\n",
    "                if (deltaE > maxDeltaE):\n",
    "                    maxK = k; maxDeltaE = deltaE; Ej = Ek\n",
    "            return maxK, Ej\n",
    "        else:  \n",
    "            j = self.selectJrand(i)\n",
    "            Ej = self.calcEk(j)\n",
    "        return j, Ej\n",
    "    \n",
    "    def updateEk(self, k):\n",
    "        Ek = self.calcEk( k)\n",
    "        self.eCache[k] = [1,Ek]\n",
    "        \n",
    "    def innerL(self,i):\n",
    "        Ei = self.calcEk(i)\n",
    "        #KTT : 0 <= alpha <= C toler为容错参数，当超过容错参数同时alpha在约束条件内才继续优化alpha，\n",
    "        #统计学习方法.李航 p113 支持向量部分\n",
    "        #Y_train[i]*Ei < -toler表示i被误分类到另外一侧，且在间隔之外，如果alpha<C那么alpha应该增大\n",
    "        #Y_train[i]*Ei > toler表示i被正分类了，且在间隔之外,如果alpha>0那么alpha应该缩小\n",
    "        if ((self.Y[i]*Ei<-self.tol) and (self.alphas[i] < self.C)) or ((self.Y[i]*Ei>self.tol) and (self.alphas[i] >0)):\n",
    "            #计算误差\n",
    "            j,Ej = self.selectJ(i,Ei)\n",
    "            alphaIold = self.alphas[i].copy();alphaJold = self.alphas[j].copy();\n",
    "            #由KTT:sum(alphas*y) = 0\n",
    "            #当i与j的y同号时相当于alphas[i] + alphas[j] = A(常数) \n",
    "            #异号时相当于alphas[i] - alphas[j] = A\n",
    "            #同时必须满足 0 <= alpha <= C \n",
    "            #则分别求出上下界L H 如果上下界相同，则alpha处于边界 直接跳过\n",
    "            if(self.Y[i]!=self.Y[j]):\n",
    "                L = max(0,self.Y[j]-self.Y[i])\n",
    "                H = min(self.C,self.C+self.Y[j]-self.Y[i])\n",
    "            else:\n",
    "                L = max(0,-self.C+self.Y[j]+self.Y[i])\n",
    "                H = min(self.C,self.Y[j]+self.Y[i])\n",
    "            if L==H: print \"L==H\"; return 0\n",
    "            #由sum(y[i]*alpha[i]) = 0 将alpha[j]由alpha[i]表示带入目标函数 可以得到alpha[2]的一元二次方程，求导使其为0可以得到极值点\n",
    "            #最终alpha[j]=alpha[j]_old + y[j](Ei-Ej)/(K11+K22-2K12) K11 = (X[i].X[j])\n",
    "            #这里eta为2K12 - K11 - K22\n",
    "            eta = 2.0*self.K[i,j] - self.K[i,i] - self.K[j,j]\n",
    "            if eta >= 0: print \"eta>=0\"; return 0\n",
    "            self.alphas[j] -= self.Y[j]*(Ei-Ej)/eta\n",
    "            self.alphas[j] = self.clipAlpha(self.alphas[j],H,L)\n",
    "            self.updateEk(j)\n",
    "            if (abs(self.alphas[j] - alphaJold) < 0.00001): print \"j not moving enough\"; return 0\n",
    "            self.alphas[i] += self.Y[j]*self.Y[i]*(alphaJold - self.alphas[j])#update i by the same amount as j\n",
    "            self.updateEk(i) #added this for the Ecache                    #the update is in the oppostie direction\n",
    "            b1 = self.b - Ei- self.Y[i]*(self.alphas[i]-alphaIold)*self.K[i,i] - self.Y[j]*(self.alphas[j]-alphaJold)*self.K[i,j]\n",
    "            b2 = self.b - Ej- self.Y[i]*(self.alphas[i]-alphaIold)*self.K[i,j]- self.Y[j]*(self.alphas[j]-alphaJold)*self.K[j,j]\n",
    "            if (0 < self.alphas[i]) and (self.C > self.alphas[i]): self.b = b1\n",
    "            elif (0 < self.alphas[j]) and (self.C > self.alphas[j]): self.b = b2\n",
    "            else: self.b = (b1 + b2)/2.0\n",
    "            return 1\n",
    "        else: return 0\n",
    "    def smoP(self):    #full Platt SMO\n",
    "        iter = 0\n",
    "        entireSet = True; alphaPairsChanged = 0\n",
    "        while (iter < self.maxIter) and ((alphaPairsChanged > 0) or (entireSet)):\n",
    "            alphaPairsChanged = 0\n",
    "            if entireSet:   \n",
    "                for i in range(self.m):        \n",
    "                    alphaPairsChanged += self.innerL(i)\n",
    "#                     print \"fullSet, iter: %d i:%d, pairs changed %d\" % (iter,i,alphaPairsChanged)\n",
    "                iter += 1\n",
    "            else:\n",
    "                #取0,C之间的alpha\n",
    "                nonBoundIs = nonzero((self.alphas.A > 0) * (self.alphas.A < self.C))[0]\n",
    "                for i in nonBoundIs:\n",
    "                    alphaPairsChanged += self.innerL(i)\n",
    "#                     print \"non-bound, iter: %d i:%d, pairs changed %d\" % (iter,i,alphaPairsChanged)\n",
    "                iter += 1\n",
    "            if entireSet: entireSet = False \n",
    "            elif (alphaPairsChanged == 0): entireSet = True  \n",
    "            print \"iteration number: %d\" % iter\n",
    "        return 0\n",
    "    def calcWs(self):\n",
    "        for i in range(self.m):\n",
    "            self.w += multiply(self.alphas[i]*self.Y[i],self.X[i,:].T)\n",
    "        return self.w\n",
    "    def kernelTrans(self,i): #calc the kernel or transform data to a higher dimensional space\n",
    "        m,n = shape(self.X)\n",
    "        K = mat(zeros((m,1)))\n",
    "        if self.kTup[0]=='lin': K = self.X * self.X[i,:].T   #linear kernel\n",
    "        elif self.kTup[0]=='rbf':\n",
    "            for j in range(m):\n",
    "                deltaRow = self.X[j,:] - self.X[i,:]\n",
    "                K[j] = deltaRow*deltaRow.T\n",
    "            K = exp(K/(-1*self.kTup[1]**2)) #divide in NumPy is element-wise not matrix like Matlab\n",
    "        else: raise NameError('Houston We Have a Problem -- \\\n",
    "        That Kernel is not recognized')\n",
    "        return K\n",
    "    def predict(self,dataIn):\n",
    "        if dataIn.shape[1] != self.X.shape[1]:\n",
    "            print('数据有误')\n",
    "            return 0\n",
    "        w = self.calcWs()\n",
    "        y = mat(dataIn)*mat(w) + self.b\n",
    "        return array(y)\n",
    "    def predictAndDraw(self,dataIn):\n",
    "        predictResult = self.predict(array(dataIn))\n",
    "        neg = dataIn[where(predictResult[:,0]<=0)]\n",
    "        pos = dataIn[where(predictResult[:,0]>=0)]\n",
    "\n",
    "        plt.scatter(neg[:,0],neg[:,1],c= \"red\")\n",
    "        plt.scatter(pos[:,0],pos[:,1],c= \"blue\")\n",
    "        x = array(linspace(3, 6, 100))\n",
    "        y = (-self.b-self.w[0]*x)/self.w[1]\n",
    "        plt.plot(x,y.T)\n",
    "\n",
    "        #绿色的为支持向量\n",
    "#         alphas = array(self.alphas)\n",
    "#         plt.scatter(dataIn[where(alphas[:,0] > 0)][:,0],dataIn[where(alphas[:,0] > 0)][:,1],c=\"green\",marker=\"D\")\n",
    "        plt.show()"
   ]
  },
  {
   "cell_type": "code",
   "execution_count": 3,
   "metadata": {
    "collapsed": true
   },
   "outputs": [],
   "source": [
    "#0<=spl<=1\n",
    "def splitData(data,label,spl):\n",
    "    if spl > 1:spl=1\n",
    "    if spl < 0:spl=0\n",
    "    msk = random.rand(len(data)) < spl\n",
    "    trainData = data[msk]\n",
    "    trainLabel = label[msk]\n",
    "    \n",
    "    testData = data[~msk]\n",
    "    testLabel = label[~msk]\n",
    "    return trainData,trainLabel,testData,testLabel"
   ]
  },
  {
   "cell_type": "code",
   "execution_count": 4,
   "metadata": {
    "collapsed": false
   },
   "outputs": [],
   "source": [
    "data,label = loadDataSet(\"testSet.txt\")\n",
    "data = array(data);label = array(label)\n",
    "trainData,trainLabel,testData,testLabel = splitData(data=data,label=label,spl=0.6)"
   ]
  },
  {
   "cell_type": "code",
   "execution_count": 5,
   "metadata": {
    "collapsed": false
   },
   "outputs": [],
   "source": [
    "model = smoSVM(xMatIn=trainData,yMatIn=trainLabel,C=0.6,toler=0.001,kTup=('lin',1),maxIter=40)"
   ]
  },
  {
   "cell_type": "code",
   "execution_count": 6,
   "metadata": {
    "collapsed": false
   },
   "outputs": [
    {
     "name": "stdout",
     "output_type": "stream",
     "text": [
      "j not moving enough\n",
      "j not moving enough\n",
      "j not moving enough\n",
      "iteration number: 1\n",
      "iteration number: 2\n",
      "j not moving enough\n",
      "j not moving enough\n",
      "iteration number: 3\n",
      "0.0191209316254秒\n"
     ]
    }
   ],
   "source": [
    "from time import time\n",
    "start = time()\n",
    "model.smoP()\n",
    "stop = time()\n",
    "print(str(stop-start) + \"秒\")\n"
   ]
  },
  {
   "cell_type": "code",
   "execution_count": 7,
   "metadata": {
    "collapsed": false
   },
   "outputs": [
    {
     "data": {
      "image/png": "[encoded data removed]",
      "text/plain": [
       "<matplotlib.figure.Figure at 0x10cfd5850>"
      ]
     },
     "metadata": {},
     "output_type": "display_data"
    }
   ],
   "source": [
    "model.predictAndDraw(testData)"
   ]
  },
  {
   "cell_type": "code",
   "execution_count": 8,
   "metadata": {
    "collapsed": false
   },
   "outputs": [
    {
     "data": {
      "text/plain": [
       "array([[  3.54248500e+00,   1.97739800e+00],\n",
       "       [  3.01889600e+00,   2.55641600e+00],\n",
       "       [  7.55151000e+00,  -1.58003000e+00],\n",
       "       [  2.11499900e+00,  -4.46600000e-03],\n",
       "       [  8.12711300e+00,   1.27437200e+00],\n",
       "       [  7.10877200e+00,  -9.86906000e-01],\n",
       "       [  8.61063900e+00,   2.04670800e+00],\n",
       "       [  2.32629700e+00,   2.65213000e-01],\n",
       "       [  3.63400900e+00,   1.73053700e+00],\n",
       "       [  3.41367000e-01,  -8.94998000e-01],\n",
       "       [  3.12595100e+00,   2.93251000e-01],\n",
       "       [  2.12325200e+00,  -7.83563000e-01],\n",
       "       [  8.87835000e-01,  -2.79779200e+00],\n",
       "       [  7.13997900e+00,  -2.32989600e+00],\n",
       "       [  1.69641400e+00,  -1.21249600e+00],\n",
       "       [  8.11703200e+00,   6.23493000e-01],\n",
       "       [  8.49716200e+00,  -2.66649000e-01],\n",
       "       [  4.65819100e+00,   3.50739600e+00],\n",
       "       [  8.19718100e+00,   1.54513200e+00],\n",
       "       [  1.20804700e+00,   2.13100000e-01],\n",
       "       [  1.92848600e+00,  -3.21870000e-01],\n",
       "       [  2.17580800e+00,  -1.45270000e-02],\n",
       "       [  7.88660800e+00,   4.61755000e-01],\n",
       "       [  3.22303800e+00,  -5.52392000e-01],\n",
       "       [  3.62850200e+00,   2.19058500e+00],\n",
       "       [  7.40786000e+00,  -1.21961000e-01],\n",
       "       [  7.28635700e+00,   2.51077000e-01],\n",
       "       [  2.30109500e+00,  -5.33988000e-01],\n",
       "       [ -2.32542000e-01,  -5.47690000e-01],\n",
       "       [  3.45709600e+00,  -8.22160000e-02],\n",
       "       [  3.02393800e+00,  -5.73920000e-02],\n",
       "       [  8.01500300e+00,   8.85325000e-01],\n",
       "       [  8.99174800e+00,   9.23154000e-01],\n",
       "       [  7.91683100e+00,  -1.78173500e+00],\n",
       "       [  7.61686200e+00,  -2.17958000e-01],\n",
       "       [  2.45093900e+00,   7.44967000e-01],\n",
       "       [  7.27033700e+00,  -2.50783400e+00],\n",
       "       [  1.74972100e+00,  -9.61902000e-01],\n",
       "       [  1.80311100e+00,  -1.76349000e-01],\n",
       "       [  8.80446100e+00,   3.04430100e+00],\n",
       "       [  1.23125700e+00,  -5.68573000e-01],\n",
       "       [  2.07491500e+00,   1.41055000e+00],\n",
       "       [ -7.43036000e-01,  -1.73610300e+00],\n",
       "       [  3.53655500e+00,   3.96496000e+00],\n",
       "       [  8.41014300e+00,   2.56060000e-02],\n",
       "       [  7.38298800e+00,  -4.78764000e-01],\n",
       "       [  6.96066100e+00,  -2.45353000e-01],\n",
       "       [  8.23446000e+00,   7.01868000e-01],\n",
       "       [  8.16861800e+00,  -9.03835000e-01],\n",
       "       [  1.53418700e+00,  -6.22492000e-01],\n",
       "       [  9.22951800e+00,   2.06608800e+00],\n",
       "       [  7.88624200e+00,   1.91813000e-01],\n",
       "       [  2.89374300e+00,  -1.64346800e+00],\n",
       "       [  1.87045700e+00,  -1.04042000e+00],\n",
       "       [  5.28686200e+00,  -2.35828600e+00],\n",
       "       [  6.08057300e+00,   4.18886000e-01],\n",
       "       [  2.54431400e+00,   1.71416500e+00],\n",
       "       [  6.01600400e+00,  -3.75371200e+00],\n",
       "       [  9.26310000e-01,  -5.64359000e-01],\n",
       "       [  8.70296000e-01,  -1.09952000e-01],\n",
       "       [  2.36934500e+00,   1.37569500e+00],\n",
       "       [  1.36378200e+00,  -2.54082000e-01],\n",
       "       [  7.27946000e+00,  -1.89572000e-01],\n",
       "       [  1.89600500e+00,   5.15080000e-01],\n",
       "       [  8.10215400e+00,  -6.03875000e-01],\n",
       "       [  2.52989300e+00,   6.62657000e-01],\n",
       "       [  1.96387400e+00,  -3.65233000e-01],\n",
       "       [  8.13204800e+00,   7.85914000e-01],\n",
       "       [  8.24593800e+00,   3.72366000e-01],\n",
       "       [  6.54388800e+00,   4.33164000e-01],\n",
       "       [ -2.36713000e-01,  -5.76672100e+00],\n",
       "       [  8.11259300e+00,   2.95839000e-01],\n",
       "       [  9.80342500e+00,   1.49516700e+00],\n",
       "       [  1.49740700e+00,  -5.52916000e-01],\n",
       "       [  1.33626700e+00,  -1.63288900e+00],\n",
       "       [  9.20580500e+00,  -5.86480000e-01],\n",
       "       [  1.96627900e+00,  -1.84043900e+00],\n",
       "       [  8.39801200e+00,   1.58491800e+00],\n",
       "       [  7.23995300e+00,  -1.76429200e+00],\n",
       "       [  7.55620100e+00,   2.41185000e-01],\n",
       "       [  9.01550900e+00,   3.45019000e-01],\n",
       "       [  8.26608500e+00,  -2.30977000e-01],\n",
       "       [  8.54562000e+00,   2.78879900e+00],\n",
       "       [  9.29596900e+00,   1.34633200e+00],\n",
       "       [  2.40423400e+00,   5.70278000e-01],\n",
       "       [  2.03777200e+00,   2.19190000e-02],\n",
       "       [  1.72763100e+00,  -4.53143000e-01],\n",
       "       [  1.97939500e+00,  -5.07730000e-02],\n",
       "       [  8.09228800e+00,  -1.37243300e+00],\n",
       "       [  1.66764500e+00,   2.39204000e-01],\n",
       "       [  9.85430300e+00,   1.36511600e+00],\n",
       "       [  7.92105700e+00,  -1.32758700e+00],\n",
       "       [  8.50075700e+00,   1.49237200e+00],\n",
       "       [  1.33974600e+00,  -2.91183000e-01],\n",
       "       [  3.10751100e+00,   7.58367000e-01],\n",
       "       [  2.60952500e+00,   9.02979000e-01],\n",
       "       [  3.26358500e+00,   1.36789800e+00],\n",
       "       [  2.91212200e+00,  -2.02359000e-01],\n",
       "       [  1.73178600e+00,   5.89096000e-01],\n",
       "       [  2.38700300e+00,   1.57313100e+00]])"
      ]
     },
     "execution_count": 8,
     "metadata": {},
     "output_type": "execute_result"
    }
   ],
   "source": [
    "data"
   ]
  },
  {
   "cell_type": "code",
   "execution_count": null,
   "metadata": {
    "collapsed": true
   },
   "outputs": [],
   "source": []
  }
 ],
 "metadata": {
  "anaconda-cloud": {},
  "kernelspec": {
   "display_name": "Python [default]",
   "language": "python",
   "name": "python2"
  },
  "language_info": {
   "codemirror_mode": {
    "name": "ipython",
    "version": 2
   },
   "file_extension": ".py",
   "mimetype": "text/x-python",
   "name": "python",
   "nbconvert_exporter": "python",
   "pygments_lexer": "ipython2",
   "version": "2.7.12"
  }
 },
 "nbformat": 4,
 "nbformat_minor": 1
}
