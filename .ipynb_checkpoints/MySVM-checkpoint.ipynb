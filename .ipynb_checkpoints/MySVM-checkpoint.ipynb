{
 "cells": [
  {
   "cell_type": "code",
   "execution_count": 1,
   "metadata": {
    "collapsed": false
   },
   "outputs": [
    {
     "name": "stderr",
     "output_type": "stream",
     "text": [
      "/Users/sivber/anaconda/lib/python2.7/site-packages/matplotlib/font_manager.py:273: UserWarning: Matplotlib is building the font cache using fc-list. This may take a moment.\n",
      "  warnings.warn('Matplotlib is building the font cache using fc-list. This may take a moment.')\n"
     ]
    }
   ],
   "source": [
    "from numpy import *\n",
    "from time import sleep\n",
    "import matplotlib.pyplot as plt\n",
    "import pandas as pd \n",
    "import math"
   ]
  },
  {
   "cell_type": "code",
   "execution_count": 2,
   "metadata": {
    "collapsed": false
   },
   "outputs": [],
   "source": [
    "def loadDataSet(fileName):\n",
    "    dataMat = []; labelMat = []\n",
    "    fr = open(fileName)\n",
    "    for line in fr.readlines():\n",
    "        lineArr = line.strip().split('\\t')\n",
    "        dataMat.append([float(lineArr[0]), float(lineArr[1])])\n",
    "        labelMat.append(float(lineArr[2]))\n",
    "    return dataMat,labelMat\n",
    "\n",
    "def selectJrand(i,m):\n",
    "    j=i #we want to select any J not equal to i\n",
    "    while (j==i):\n",
    "        j = int(random.uniform(0,m))\n",
    "    return j\n",
    "\n",
    "def clipAlpha(aj,H,L):\n",
    "    if aj > H: \n",
    "        aj = H\n",
    "    if L > aj:\n",
    "        aj = L\n",
    "    return aj\n",
    "\n",
    "\n",
    "def smoSimple(X_data,Y_data,C,toler,maxIter):\n",
    "    X_train = mat(X_data)\n",
    "    Y_train = mat(Y_data).transpose()\n",
    "    b = 0\n",
    "    m,n = data.shape\n",
    "    iter = 0\n",
    "    #alpha值，初始化为0，每一个样本都有一个alpha值\n",
    "    alphas = mat(zeros((m,1)))\n",
    "    while(iter < maxIter):\n",
    "        alphaPairsChanged = 0\n",
    "        for i in range(m):\n",
    "            #f(x)=w*x+b  w=sum(alpha*y*x)  这里的sum表示所有的样本 例如有N个样本则是N个样本的alpha*y*x相加\n",
    "            #-> f(x)=sum(alpha * y * x)*xi\n",
    "            fxi = float(multiply(alphas,Y_train).T*(X_train*X_train[i,:].T)) + b\n",
    "            #误差\n",
    "            Ei = fxi - float(Y_train[i])\n",
    "            #KTT : 0 <= alpha <= C toler为容错参数，当超过容错参数同时alpha在约束条件内才继续优化alpha，\n",
    "            #Y_train[i]*Ei < -toler表示alpha需要增大，同理Y_train[i]*Ei > toler表示alpha需要缩小\n",
    "            if ((Y_train[i]*Ei < -toler) and (alphas[i]< C)) or ((Y_train[i]*Ei > toler) and (alphas[i] > 0)):\n",
    "                #随机选取另外一个样本j\n",
    "                j = selectJrand(i,m)\n",
    "                fXj = float(multiply(alphas,Y_train).T*(X_train*X_train[j,:].T)) + b\n",
    "                Ej = fXj - float(Y_train[j])\n",
    "                alphaIold = alphas[i].copy(); alphaJold = alphas[j].copy();\n",
    "                #由KTT:sum(alphas*y) = 0\n",
    "                #当i与j的y同号时相当于alphas[i] + alphas[j] = A(常数) \n",
    "                #异号时相当于alphas[i] - alphas[j] = A\n",
    "                #同时必须满足 0 <= alpha <= C \n",
    "                #则分别求出上下界L H 如果上下界相同，则alpha处于边界 直接跳过\n",
    "                if (Y_train[i] != Y_train[j]):\n",
    "                    L = max(0, alphas[j] - alphas[i])\n",
    "                    H = min(C, C + alphas[j] - alphas[i])\n",
    "                else:\n",
    "                    L = max(0, alphas[j] + alphas[i] - C)\n",
    "                    H = min(C, alphas[j] + alphas[i])\n",
    "                if L==H: \n",
    "#                     print \"L==H\";\n",
    "                    continue\n",
    "                #由sum(y[i]*alpha[i]) = 0 将alpha[j]由alpha[i]表示带入目标函数 可以得到alpha[2]的一元二次方程，求导使其为0可以得到极值点\n",
    "                #最终alpha[j]=alpha[j]_old + y[j](Ei-Ej)/(K11+K22-2K12) K11 = (X[i].X[j])\n",
    "                #这里eta为2K12 - K11 - K22\n",
    "                eta = 2.0 * X_train[i,:]*X_train[j,:].T - X_train[i,:]*X_train[i,:].T - X_train[j,:]*X_train[j,:].T\n",
    "                if eta >= 0: print \"eta>=0\"; continue\n",
    "                alphas[j] -= Y_train[j]*(Ei - Ej)/eta\n",
    "                alphas[j] = clipAlpha(alphas[j],H,L)\n",
    "                #如果变化率太小则跳出\n",
    "                if (abs(alphas[j] - alphaJold) < 0.00001):\n",
    "#                     print \"j not moving enough\";\n",
    "                    continue\n",
    "                #由于Y为+1 -1分类 所以这里可以写成Y[i]*Y[j]\n",
    "                #alphas[i] = -delta[j]*Y[j]/Y[i]   delta[J] = alpha[j]_new - alpha[j]_old\n",
    "                alphas[i] += Y_train[j]*Y_train[i]*(alphaJold - alphas[j])\n",
    "                #取一个alpha[k]使得0<alpha<C(处于间隔边界) b=y[k] - sum(alpha[i]*y[i]*(x[i].x[j]))\n",
    "                #变成如下形式：如果alpha[1] 在0到C ,b1_new = -E1-y1*K11(alpha1_new-alpha1_old)-y2*K21(alpha2_new-alpha2_old) + b_old\n",
    "                b1 = b - Ei- Y_train[i]*(alphas[i]-alphaIold)*X_train[i,:]*X_train[i,:].T - Y_train[j]*(alphas[j]-alphaJold)*X_train[i,:]*X_train[j,:].T\n",
    "                b2 = b - Ej- Y_train[i]*(alphas[i]-alphaIold)*X_train[i,:]*X_train[j,:].T - Y_train[j]*(alphas[j]-alphaJold)*X_train[j,:]*X_train[j,:].T\n",
    "                #如果alpha1 和alpha2都不满足条件则取b1+b2/2\n",
    "                if (0 < alphas[i]) and (C > alphas[i]): b = b1\n",
    "                elif (0 < alphas[j]) and (C > alphas[j]): b = b2\n",
    "                else: b = (b1 + b2)/2.0\n",
    "                alphaPairsChanged += 1\n",
    "#                 print \"iter: %d i:%d, pairs changed %d\" % (iter,i,alphaPairsChanged)\n",
    "        if (alphaPairsChanged == 0): iter += 1\n",
    "        else: iter = 0\n",
    "#         print \"iteration number: %d\" % iter\n",
    "#     w = calcWs(alphas,X_train,Y_train)\n",
    "    return b,alphas\n",
    "def calcWs(alphas,dataArr,classLabels):\n",
    "    X = mat(dataArr); labelMat = mat(classLabels).T\n",
    "    m,n = shape(X)\n",
    "    w = zeros((n,1))\n",
    "#     print(X[1,:].T)\n",
    "#     print(multiply(alphas[1]*labelMat[1])*X[1,:].T)\n",
    "    for i in range(m):\n",
    "        w += multiply(alphas[i]*labelMat[i],X[i,:].T)\n",
    "    return w\n",
    "def predict(dataIn,w,b):\n",
    "    \n",
    "    y = mat(dataIn)*mat(w)+b\n",
    "    return y\n",
    "    "
   ]
  },
  {
   "cell_type": "code",
   "execution_count": 3,
   "metadata": {
    "collapsed": false
   },
   "outputs": [],
   "source": [
    "data,label = loadDataSet(\"testSet.txt\")\n",
    "# plt.scatter(data[:,0],data[:,1])\n",
    "data = np.array(data)\n",
    "label = np.array(label)"
   ]
  },
  {
   "cell_type": "code",
   "execution_count": 4,
   "metadata": {
    "collapsed": false
   },
   "outputs": [
    {
     "data": {
      "image/png": "[encoded data removed]",
      "text/plain": [
       "<matplotlib.figure.Figure at 0x10c895710>"
      ]
     },
     "metadata": {},
     "output_type": "display_data"
    }
   ],
   "source": [
    "neg = data[np.where(label==-1)]\n",
    "pos = data[np.where(label==1)]\n",
    "plt.scatter(neg[:,0],neg[:,1],c= \"red\")\n",
    "plt.scatter(pos[:,0],pos[:,1],c= \"blue\")\n",
    "plt.show()"
   ]
  },
  {
   "cell_type": "code",
   "execution_count": 5,
   "metadata": {
    "collapsed": false
   },
   "outputs": [],
   "source": [
    "m = data.shape[0]"
   ]
  },
  {
   "cell_type": "code",
   "execution_count": 6,
   "metadata": {
    "collapsed": true
   },
   "outputs": [],
   "source": [
    "msk = np.random.rand(len(data)) < 0.8\n",
    "\n",
    "trainData = data[msk]\n",
    "trainLabel = label[msk]\n",
    "\n",
    "testData = data[~msk]\n",
    "testLabel = label[~msk]"
   ]
  },
  {
   "cell_type": "code",
   "execution_count": 7,
   "metadata": {
    "collapsed": false
   },
   "outputs": [
    {
     "data": {
      "text/plain": [
       "(72, 2)"
      ]
     },
     "execution_count": 7,
     "metadata": {},
     "output_type": "execute_result"
    }
   ],
   "source": [
    "trainData.shape"
   ]
  },
  {
   "cell_type": "code",
   "execution_count": 8,
   "metadata": {
    "collapsed": false
   },
   "outputs": [
    {
     "ename": "NameError",
     "evalue": "global name 'mat' is not defined",
     "output_type": "error",
     "traceback": [
      "\u001b[0;31m---------------------------------------------------------------------------\u001b[0m",
      "\u001b[0;31mNameError\u001b[0m                                 Traceback (most recent call last)",
      "\u001b[0;32m<ipython-input-8-d650b509289b>\u001b[0m in \u001b[0;36m<module>\u001b[0;34m()\u001b[0m\n\u001b[0;32m----> 1\u001b[0;31m \u001b[0mb\u001b[0m\u001b[0;34m,\u001b[0m\u001b[0malphas\u001b[0m \u001b[0;34m=\u001b[0m \u001b[0msmoSimple\u001b[0m\u001b[0;34m(\u001b[0m\u001b[0mdata\u001b[0m\u001b[0;34m,\u001b[0m\u001b[0mlabel\u001b[0m\u001b[0;34m,\u001b[0m\u001b[0;36m0.6\u001b[0m\u001b[0;34m,\u001b[0m\u001b[0;36m0.001\u001b[0m\u001b[0;34m,\u001b[0m\u001b[0;36m50\u001b[0m\u001b[0;34m)\u001b[0m\u001b[0;34m\u001b[0m\u001b[0m\n\u001b[0m\u001b[1;32m      2\u001b[0m \u001b[0mw\u001b[0m \u001b[0;34m=\u001b[0m \u001b[0mcalcWs\u001b[0m\u001b[0;34m(\u001b[0m\u001b[0malphas\u001b[0m\u001b[0;34m,\u001b[0m\u001b[0mdata\u001b[0m\u001b[0;34m,\u001b[0m\u001b[0mlabel\u001b[0m\u001b[0;34m)\u001b[0m\u001b[0;34m\u001b[0m\u001b[0m\n",
      "\u001b[0;32m<ipython-input-2-fd5446fc6ac5>\u001b[0m in \u001b[0;36msmoSimple\u001b[0;34m(X_data, Y_data, C, toler, maxIter)\u001b[0m\n\u001b[1;32m     23\u001b[0m \u001b[0;34m\u001b[0m\u001b[0m\n\u001b[1;32m     24\u001b[0m \u001b[0;32mdef\u001b[0m \u001b[0msmoSimple\u001b[0m\u001b[0;34m(\u001b[0m\u001b[0mX_data\u001b[0m\u001b[0;34m,\u001b[0m\u001b[0mY_data\u001b[0m\u001b[0;34m,\u001b[0m\u001b[0mC\u001b[0m\u001b[0;34m,\u001b[0m\u001b[0mtoler\u001b[0m\u001b[0;34m,\u001b[0m\u001b[0mmaxIter\u001b[0m\u001b[0;34m)\u001b[0m\u001b[0;34m:\u001b[0m\u001b[0;34m\u001b[0m\u001b[0m\n\u001b[0;32m---> 25\u001b[0;31m     \u001b[0mX_train\u001b[0m \u001b[0;34m=\u001b[0m \u001b[0mmat\u001b[0m\u001b[0;34m(\u001b[0m\u001b[0mX_data\u001b[0m\u001b[0;34m)\u001b[0m\u001b[0;34m\u001b[0m\u001b[0m\n\u001b[0m\u001b[1;32m     26\u001b[0m     \u001b[0mY_train\u001b[0m \u001b[0;34m=\u001b[0m \u001b[0mmat\u001b[0m\u001b[0;34m(\u001b[0m\u001b[0mY_data\u001b[0m\u001b[0;34m)\u001b[0m\u001b[0;34m.\u001b[0m\u001b[0mtranspose\u001b[0m\u001b[0;34m(\u001b[0m\u001b[0;34m)\u001b[0m\u001b[0;34m\u001b[0m\u001b[0m\n\u001b[1;32m     27\u001b[0m     \u001b[0mb\u001b[0m \u001b[0;34m=\u001b[0m \u001b[0;36m0\u001b[0m\u001b[0;34m\u001b[0m\u001b[0m\n",
      "\u001b[0;31mNameError\u001b[0m: global name 'mat' is not defined"
     ]
    }
   ],
   "source": [
    "b,alphas = smoSimple(data,label,0.6,0.001,50)\n",
    "w = calcWs(alphas,data,label)"
   ]
  },
  {
   "cell_type": "code",
   "execution_count": null,
   "metadata": {
    "collapsed": false
   },
   "outputs": [],
   "source": [
    "predictResult = predict(data,w,b)\n",
    "predictResult = np.array(predictResult)"
   ]
  },
  {
   "cell_type": "code",
   "execution_count": null,
   "metadata": {
    "collapsed": false
   },
   "outputs": [],
   "source": [
    "neg = data[np.where(predictResult[:,0]<=0)]\n",
    "pos = data[np.where(predictResult[:,0]>=0)]\n",
    "\n",
    "plt.scatter(neg[:,0],neg[:,1],c= \"red\")\n",
    "plt.scatter(pos[:,0],pos[:,1],c= \"blue\")\n",
    "x = np.array(np.linspace(3, 6, 100))\n",
    "y = (-b-w[0]*x)/w[1]\n",
    "plt.plot(x,y.T)\n",
    "\n",
    "#绿色的为支持向量\n",
    "alphas = np.array(alphas)\n",
    "plt.scatter(data[np.where(alphas[:,0] > 0)][:,0],data[np.where(alphas[:,0] > 0)][:,1],c=\"green\",marker=\"D\")\n",
    "plt.show()\n"
   ]
  },
  {
   "cell_type": "code",
   "execution_count": null,
   "metadata": {
    "collapsed": false
   },
   "outputs": [],
   "source": []
  },
  {
   "cell_type": "code",
   "execution_count": null,
   "metadata": {
    "collapsed": false
   },
   "outputs": [],
   "source": []
  },
  {
   "cell_type": "code",
   "execution_count": null,
   "metadata": {
    "collapsed": true
   },
   "outputs": [],
   "source": []
  }
 ],
 "metadata": {
  "anaconda-cloud": {},
  "kernelspec": {
   "display_name": "Python [default]",
   "language": "python",
   "name": "python2"
  },
  "language_info": {
   "codemirror_mode": {
    "name": "ipython",
    "version": 2
   },
   "file_extension": ".py",
   "mimetype": "text/x-python",
   "name": "python",
   "nbconvert_exporter": "python",
   "pygments_lexer": "ipython2",
   "version": "2.7.12"
  }
 },
 "nbformat": 4,
 "nbformat_minor": 1
}
